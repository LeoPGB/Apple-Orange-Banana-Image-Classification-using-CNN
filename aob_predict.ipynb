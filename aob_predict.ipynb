{
  "nbformat": 4,
  "nbformat_minor": 0,
  "metadata": {
    "colab": {
      "name": "aob_predict.ipynb",
      "provenance": [],
      "collapsed_sections": []
    },
    "kernelspec": {
      "name": "python3",
      "display_name": "Python 3"
    },
    "language_info": {
      "name": "python"
    }
  },
  "cells": [
    {
      "cell_type": "code",
      "execution_count": 75,
      "metadata": {
        "id": "QIIu-wVD9C3K"
      },
      "outputs": [],
      "source": [
        "from tensorflow.keras.models import load_model\n",
        "from tensorflow.keras.preprocessing.image import load_img, img_to_array\n",
        "import matplotlib.pyplot as plt\n",
        "import numpy as np"
      ]
    },
    {
      "cell_type": "code",
      "source": [
        "model = load_model('/content/drive/MyDrive/aob.h5')"
      ],
      "metadata": {
        "id": "B8-fHXWJ9aLb"
      },
      "execution_count": 76,
      "outputs": []
    },
    {
      "cell_type": "code",
      "source": [
        "labels = {'Apple': 0, 'Banana': 1, 'Orange': 2}"
      ],
      "metadata": {
        "id": "jAqb3Lu2-fDW"
      },
      "execution_count": 77,
      "outputs": []
    },
    {
      "cell_type": "code",
      "source": [
        "img = load_img('/content/orange.jpg', target_size=(150,150,3))\n",
        "img = img_to_array(img)\n",
        "img = img.reshape(1,150,150,3)"
      ],
      "metadata": {
        "id": "CYrapDeq9ks9"
      },
      "execution_count": 78,
      "outputs": []
    },
    {
      "cell_type": "code",
      "source": [
        "result = model.predict(img).flatten()\n",
        "print(result)\n",
        "print(np.argmax(result))\n",
        "print([key for key in labels][np.argmax(result)])\n",
        "print(result[np.argmax(result)]*100/(np.sum(result.astype('float64'))))"
      ],
      "metadata": {
        "colab": {
          "base_uri": "https://localhost:8080/"
        },
        "id": "05dP_jR_9sjD",
        "outputId": "f423a116-4957-4ea0-f71c-19e76632bba2"
      },
      "execution_count": 79,
      "outputs": [
        {
          "output_type": "stream",
          "name": "stdout",
          "text": [
            "[9.2351746e-07 4.4594546e-07 9.9999869e-01]\n",
            "2\n",
            "Orange\n",
            "99.99986305371579\n"
          ]
        }
      ]
    },
    {
      "cell_type": "code",
      "source": [
        ""
      ],
      "metadata": {
        "id": "z96Nh3aU_Hqn"
      },
      "execution_count": 79,
      "outputs": []
    }
  ]
}