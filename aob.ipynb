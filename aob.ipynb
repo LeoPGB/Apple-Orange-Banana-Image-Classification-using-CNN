{
 "cells": [
  {
   "cell_type": "code",
   "execution_count": 129,
   "metadata": {
    "id": "O8DtNrY9z_5V"
   },
   "outputs": [],
   "source": [
    "from tensorflow import keras\n",
    "from tensorflow.keras import layers\n",
    "from tensorflow.keras.preprocessing.image import ImageDataGenerator\n",
    "import matplotlib.pyplot as plt\n",
    "import numpy as np"
   ]
  },
  {
   "cell_type": "code",
   "execution_count": 130,
   "metadata": {
    "id": "WrUa8Y2-0K1h"
   },
   "outputs": [],
   "source": [
    "train_data = ImageDataGenerator(rescale=1)\n",
    "test_data = ImageDataGenerator(rescale=1)"
   ]
  },
  {
   "cell_type": "code",
   "execution_count": 131,
   "metadata": {
    "id": "576IsSSF0X45"
   },
   "outputs": [],
   "source": [
    "model = keras.Sequential()\n",
    "model.add(layers.Conv2D(32, (3,3), activation='relu', input_shape=(150,150,3)))#, padding='same'\n",
    "model.add(layers.MaxPooling2D((2,2)))\n",
    "\n",
    "model.add(layers.Conv2D(64, (3,3), activation='relu'))\n",
    "model.add(layers.MaxPooling2D((2,2)))\n",
    "\n",
    "model.add(layers.Conv2D(128, (3,3), activation='relu'))\n",
    "model.add(layers.MaxPooling2D((2,2)))\n",
    "\n",
    "model.add(layers.Flatten())\n",
    "\n",
    "model.add(layers.Dense(512, activation='relu'))\n",
    "model.add(layers.Dense(3, activation='softmax'))"
   ]
  },
  {
   "cell_type": "code",
   "execution_count": 132,
   "metadata": {
    "colab": {
     "base_uri": "https://localhost:8080/"
    },
    "id": "6j0P0_n30a95",
    "outputId": "d2011aa1-f6e3-4096-e35d-dfc1e4251f6b"
   },
   "outputs": [
    {
     "name": "stdout",
     "output_type": "stream",
     "text": [
      "Found 458 images belonging to 3 classes.\n",
      "Found 198 images belonging to 3 classes.\n"
     ]
    }
   ],
   "source": [
    "trainer = train_data.flow_from_directory('/train', batch_size=64, target_size=(150,150))\n",
    "tester = test_data.flow_from_directory('/test', batch_size=64, target_size=(150,150))"
   ]
  },
  {
   "cell_type": "code",
   "execution_count": 133,
   "metadata": {
    "colab": {
     "base_uri": "https://localhost:8080/"
    },
    "id": "hFg5TU3A869_",
    "outputId": "6c8a6bbb-a240-42ce-ffc6-0de62cc2fbaa"
   },
   "outputs": [
    {
     "name": "stdout",
     "output_type": "stream",
     "text": [
      "{'freshapples': 0, 'freshbanana': 1, 'freshoranges': 2}\n"
     ]
    }
   ],
   "source": [
    "labels = trainer.class_indices\n",
    "print(labels)"
   ]
  },
  {
   "cell_type": "code",
   "execution_count": 134,
   "metadata": {
    "colab": {
     "base_uri": "https://localhost:8080/"
    },
    "id": "pGLG_H860oQw",
    "outputId": "0c7c0b60-2710-43e6-bda9-58d4d6de5282"
   },
   "outputs": [
    {
     "name": "stdout",
     "output_type": "stream",
     "text": [
      "Epoch 1/8\n",
      "8/8 [==============================] - 27s 3s/step - loss: 513.0106 - accuracy: 0.3559 - val_loss: 13.7987 - val_accuracy: 0.6061\n",
      "Epoch 2/8\n",
      "8/8 [==============================] - 28s 3s/step - loss: 7.8223 - accuracy: 0.5852 - val_loss: 0.3524 - val_accuracy: 0.8636\n",
      "Epoch 3/8\n",
      "8/8 [==============================] - 26s 3s/step - loss: 0.5617 - accuracy: 0.8231 - val_loss: 0.2357 - val_accuracy: 0.8990\n",
      "Epoch 4/8\n",
      "8/8 [==============================] - 26s 3s/step - loss: 0.2170 - accuracy: 0.9258 - val_loss: 0.2849 - val_accuracy: 0.8939\n",
      "Epoch 5/8\n",
      "8/8 [==============================] - 26s 3s/step - loss: 0.1300 - accuracy: 0.9607 - val_loss: 0.2915 - val_accuracy: 0.8788\n",
      "Epoch 6/8\n",
      "8/8 [==============================] - 26s 3s/step - loss: 0.1107 - accuracy: 0.9629 - val_loss: 0.1863 - val_accuracy: 0.9545\n",
      "Epoch 7/8\n",
      "8/8 [==============================] - 26s 3s/step - loss: 0.0608 - accuracy: 0.9782 - val_loss: 0.1892 - val_accuracy: 0.9697\n",
      "Epoch 8/8\n",
      "8/8 [==============================] - 25s 3s/step - loss: 0.0657 - accuracy: 0.9803 - val_loss: 0.1925 - val_accuracy: 0.9596\n"
     ]
    }
   ],
   "source": [
    "model.compile(loss='categorical_crossentropy', metrics=['accuracy'], optimizer='adam')\n",
    "history = model.fit(trainer, validation_data=tester, epochs=8)"
   ]
  },
  {
   "cell_type": "code",
   "execution_count": 135,
   "metadata": {
    "colab": {
     "base_uri": "https://localhost:8080/"
    },
    "id": "Sqenlwu-0uZ-",
    "outputId": "71629e62-3835-49f1-9565-5b6c04df3bfd"
   },
   "outputs": [
    {
     "name": "stdout",
     "output_type": "stream",
     "text": [
      "Model: \"sequential_15\"\n",
      "_________________________________________________________________\n",
      " Layer (type)                Output Shape              Param #   \n",
      "=================================================================\n",
      " conv2d_45 (Conv2D)          (None, 148, 148, 32)      896       \n",
      "                                                                 \n",
      " max_pooling2d_45 (MaxPoolin  (None, 74, 74, 32)       0         \n",
      " g2D)                                                            \n",
      "                                                                 \n",
      " conv2d_46 (Conv2D)          (None, 72, 72, 64)        18496     \n",
      "                                                                 \n",
      " max_pooling2d_46 (MaxPoolin  (None, 36, 36, 64)       0         \n",
      " g2D)                                                            \n",
      "                                                                 \n",
      " conv2d_47 (Conv2D)          (None, 34, 34, 128)       73856     \n",
      "                                                                 \n",
      " max_pooling2d_47 (MaxPoolin  (None, 17, 17, 128)      0         \n",
      " g2D)                                                            \n",
      "                                                                 \n",
      " flatten_15 (Flatten)        (None, 36992)             0         \n",
      "                                                                 \n",
      " dense_30 (Dense)            (None, 512)               18940416  \n",
      "                                                                 \n",
      " dense_31 (Dense)            (None, 3)                 1539      \n",
      "                                                                 \n",
      "=================================================================\n",
      "Total params: 19,035,203\n",
      "Trainable params: 19,035,203\n",
      "Non-trainable params: 0\n",
      "_________________________________________________________________\n"
     ]
    }
   ],
   "source": [
    "model.summary()"
   ]
  },
  {
   "cell_type": "code",
   "execution_count": 136,
   "metadata": {
    "colab": {
     "base_uri": "https://localhost:8080/",
     "height": 295
    },
    "id": "pQFPnSGw8lCi",
    "outputId": "e1c64e18-3a15-42ac-a4bb-cccc8f4d2907"
   },
   "outputs": [
    {
     "data": {
      "image/png": "[encoded data removed]",
      "text/plain": [
       "<Figure size 432x288 with 1 Axes>"
      ]
     },
     "metadata": {
      "needs_background": "light"
     },
     "output_type": "display_data"
    }
   ],
   "source": [
    "plt.plot(history.history['loss'])\n",
    "plt.plot(history.history['val_loss'])\n",
    "plt.title('Model Loss')\n",
    "plt.xlabel('Epoch')\n",
    "plt.ylabel('Loss')\n",
    "plt.legend(['Train', 'Test'],loc='upper right')\n",
    "plt.show()"
   ]
  },
  {
   "cell_type": "code",
   "execution_count": 137,
   "metadata": {
    "colab": {
     "base_uri": "https://localhost:8080/",
     "height": 313
    },
    "id": "Ybf18-y18nXi",
    "outputId": "6e76222e-390c-46d4-b54a-343bd52315c0"
   },
   "outputs": [
    {
     "data": {
      "text/plain": [
       "<matplotlib.legend.Legend at 0x7fb361947bd0>"
      ]
     },
     "execution_count": 137,
     "metadata": {},
     "output_type": "execute_result"
    },
    {
     "data": {
      "image/png": "[encoded data removed]",
      "text/plain": [
       "<Figure size 432x288 with 1 Axes>"
      ]
     },
     "metadata": {
      "needs_background": "light"
     },
     "output_type": "display_data"
    }
   ],
   "source": [
    "plt.plot(history.history['accuracy'])\n",
    "plt.plot(history.history['val_accuracy'])\n",
    "plt.title('Model Accuracy')\n",
    "plt.xlabel('Epoch')\n",
    "plt.ylabel('Accuracy')\n",
    "plt.legend(['train', 'test'], loc='lower right')"
   ]
  },
  {
   "cell_type": "code",
   "execution_count": 139,
   "metadata": {
    "id": "s25YPTbh8v3y"
   },
   "outputs": [],
   "source": [
    "model.save('/aob.h5')"
   ]
  }
 ],
 "metadata": {
  "colab": {
   "collapsed_sections": [],
   "name": "aob.ipynb",
   "provenance": []
  },
  "kernelspec": {
   "display_name": "Python 3 (ipykernel)",
   "language": "python",
   "name": "python3"
  },
  "language_info": {
   "codemirror_mode": {
    "name": "ipython",
    "version": 3
   },
   "file_extension": ".py",
   "mimetype": "text/x-python",
   "name": "python",
   "nbconvert_exporter": "python",
   "pygments_lexer": "ipython3",
   "version": "3.8.10"
  }
 },
 "nbformat": 4,
 "nbformat_minor": 1
}
